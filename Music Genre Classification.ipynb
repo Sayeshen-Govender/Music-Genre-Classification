{
  "cells": [
    {
      "cell_type": "markdown",
      "metadata": {
        "id": "Lmm4L_wsFdnu"
      },
      "source": [
        "# **Classification of Lyrics by Music Genres using Natural Language Processing and Machine Learning Techniques**"
      ]
    },
    {
      "cell_type": "code",
      "execution_count": null,
      "metadata": {
        "colab": {
          "base_uri": "https://localhost:8080/"
        },
        "id": "1LeF9_Vm1-Jr",
        "outputId": "5d024b54-bdcd-400b-f1bf-c673b3a2ce14"
      },
      "outputs": [
        {
          "name": "stderr",
          "output_type": "stream",
          "text": [
            "[nltk_data] Downloading package punkt to /root/nltk_data...\n",
            "[nltk_data]   Unzipping tokenizers/punkt.zip.\n",
            "[nltk_data] Downloading package stopwords to /root/nltk_data...\n",
            "[nltk_data]   Unzipping corpora/stopwords.zip.\n",
            "[nltk_data] Downloading package wordnet to /root/nltk_data...\n"
          ]
        },
        {
          "data": {
            "text/plain": [
              "True"
            ]
          },
          "execution_count": 1,
          "metadata": {},
          "output_type": "execute_result"
        }
      ],
      "source": [
        "import nltk\n",
        "nltk.download('punkt')\n",
        "nltk.download('stopwords')\n",
        "nltk.download('wordnet')"
      ]
    },
    {
      "cell_type": "markdown",
      "metadata": {
        "id": "cFnCwPjg2rvP"
      },
      "source": [
        "# **Preprocessing and splitting the dataset**"
      ]
    },
    {
      "cell_type": "code",
      "execution_count": null,
      "metadata": {
        "id": "abnOhKnX2Edw"
      },
      "outputs": [],
      "source": [
        "import pandas as pd\n",
        "import re\n",
        "from nltk.tokenize import word_tokenize\n",
        "from nltk.corpus import stopwords\n",
        "from nltk.stem import WordNetLemmatizer\n",
        "from sklearn.feature_extraction.text import CountVectorizer\n",
        "from sklearn.ensemble import RandomForestClassifier\n",
        "from sklearn.naive_bayes import MultinomialNB\n",
        "from sklearn.linear_model import LogisticRegression\n",
        "from sklearn.metrics import classification_report\n",
        "from sklearn.metrics import confusion_matrix\n",
        "import seaborn as sns\n",
        "import matplotlib.pyplot as plt\n",
        "\n",
        "# Read the training and test data from CSV files\n",
        "train_data = pd.read_csv(\"train.csv\")\n",
        "test_data = pd.read_csv(\"test.csv\")\n",
        "\n",
        "# Preprocess the lyric data using NLTK\n",
        "stop_words = set(stopwords.words('english'))  # removing stopwords\n",
        "lemmatizer = WordNetLemmatizer()  # reducing inflected words to their root form\n",
        "\n",
        "# Tokenizing the lyrics in our training data\n",
        "def preprocess_text(text):\n",
        "    text = re.sub(r'[,\\[\\](){}]', '', text) #remove certain special characters\n",
        "    tokens = word_tokenize(text.lower())\n",
        "    lemmatized_tokens = []\n",
        "    for token in tokens:\n",
        "        if token.isalpha() and token not in stop_words:  # ensures that only alphabetical tokens that are not stopwords are lemmatized\n",
        "            lemmatized_token = lemmatizer.lemmatize(token)\n",
        "            lemmatized_tokens.append(lemmatized_token)  # appended to lemmatized_tokens\n",
        "    return ' '.join(tokens)  # creates each preprocessed lyric as a string\n",
        "\n",
        "# Preprocessing our training and test data sets\n",
        "train_data['lyric'] = train_data['lyric'].apply(preprocess_text)\n",
        "test_data['lyric'] = test_data['lyric'].apply(preprocess_text)\n",
        "\n",
        "# Split the training data into lyrics (features) and classes (labels)\n",
        "x_train = train_data['lyric']\n",
        "y_train = train_data['class']\n"
      ]
    },
    {
      "cell_type": "markdown",
      "metadata": {
        "id": "nbBT1Y1s3ANA"
      },
      "source": [
        "# **Using a CountVectorizer with n-grams to vectorize the training data**"
      ]
    },
    {
      "cell_type": "code",
      "execution_count": null,
      "metadata": {
        "id": "1lZTSBT-2En8"
      },
      "outputs": [],
      "source": [
        "vectorizer = CountVectorizer(ngram_range=(1, 2))\n",
        "x_train_vectorized = vectorizer.fit_transform(x_train)\n"
      ]
    },
    {
      "cell_type": "markdown",
      "metadata": {
        "id": "ZKqXlYvD3T5v"
      },
      "source": [
        "# **Using a Logistic Regression classifier to classify our data**"
      ]
    },
    {
      "cell_type": "code",
      "execution_count": null,
      "metadata": {
        "colab": {
          "base_uri": "https://localhost:8080/",
          "height": 74
        },
        "id": "T7aDfEXH2FQo",
        "outputId": "23ec39db-6955-46bd-8c61-88b16b1defc4"
      },
      "outputs": [
        {
          "data": {
            "text/html": [
              "<style>#sk-container-id-1 {color: black;background-color: white;}#sk-container-id-1 pre{padding: 0;}#sk-container-id-1 div.sk-toggleable {background-color: white;}#sk-container-id-1 label.sk-toggleable__label {cursor: pointer;display: block;width: 100%;margin-bottom: 0;padding: 0.3em;box-sizing: border-box;text-align: center;}#sk-container-id-1 label.sk-toggleable__label-arrow:before {content: \"▸\";float: left;margin-right: 0.25em;color: #696969;}#sk-container-id-1 label.sk-toggleable__label-arrow:hover:before {color: black;}#sk-container-id-1 div.sk-estimator:hover label.sk-toggleable__label-arrow:before {color: black;}#sk-container-id-1 div.sk-toggleable__content {max-height: 0;max-width: 0;overflow: hidden;text-align: left;background-color: #f0f8ff;}#sk-container-id-1 div.sk-toggleable__content pre {margin: 0.2em;color: black;border-radius: 0.25em;background-color: #f0f8ff;}#sk-container-id-1 input.sk-toggleable__control:checked~div.sk-toggleable__content {max-height: 200px;max-width: 100%;overflow: auto;}#sk-container-id-1 input.sk-toggleable__control:checked~label.sk-toggleable__label-arrow:before {content: \"▾\";}#sk-container-id-1 div.sk-estimator input.sk-toggleable__control:checked~label.sk-toggleable__label {background-color: #d4ebff;}#sk-container-id-1 div.sk-label input.sk-toggleable__control:checked~label.sk-toggleable__label {background-color: #d4ebff;}#sk-container-id-1 input.sk-hidden--visually {border: 0;clip: rect(1px 1px 1px 1px);clip: rect(1px, 1px, 1px, 1px);height: 1px;margin: -1px;overflow: hidden;padding: 0;position: absolute;width: 1px;}#sk-container-id-1 div.sk-estimator {font-family: monospace;background-color: #f0f8ff;border: 1px dotted black;border-radius: 0.25em;box-sizing: border-box;margin-bottom: 0.5em;}#sk-container-id-1 div.sk-estimator:hover {background-color: #d4ebff;}#sk-container-id-1 div.sk-parallel-item::after {content: \"\";width: 100%;border-bottom: 1px solid gray;flex-grow: 1;}#sk-container-id-1 div.sk-label:hover label.sk-toggleable__label {background-color: #d4ebff;}#sk-container-id-1 div.sk-serial::before {content: \"\";position: absolute;border-left: 1px solid gray;box-sizing: border-box;top: 0;bottom: 0;left: 50%;z-index: 0;}#sk-container-id-1 div.sk-serial {display: flex;flex-direction: column;align-items: center;background-color: white;padding-right: 0.2em;padding-left: 0.2em;position: relative;}#sk-container-id-1 div.sk-item {position: relative;z-index: 1;}#sk-container-id-1 div.sk-parallel {display: flex;align-items: stretch;justify-content: center;background-color: white;position: relative;}#sk-container-id-1 div.sk-item::before, #sk-container-id-1 div.sk-parallel-item::before {content: \"\";position: absolute;border-left: 1px solid gray;box-sizing: border-box;top: 0;bottom: 0;left: 50%;z-index: -1;}#sk-container-id-1 div.sk-parallel-item {display: flex;flex-direction: column;z-index: 1;position: relative;background-color: white;}#sk-container-id-1 div.sk-parallel-item:first-child::after {align-self: flex-end;width: 50%;}#sk-container-id-1 div.sk-parallel-item:last-child::after {align-self: flex-start;width: 50%;}#sk-container-id-1 div.sk-parallel-item:only-child::after {width: 0;}#sk-container-id-1 div.sk-dashed-wrapped {border: 1px dashed gray;margin: 0 0.4em 0.5em 0.4em;box-sizing: border-box;padding-bottom: 0.4em;background-color: white;}#sk-container-id-1 div.sk-label label {font-family: monospace;font-weight: bold;display: inline-block;line-height: 1.2em;}#sk-container-id-1 div.sk-label-container {text-align: center;}#sk-container-id-1 div.sk-container {/* jupyter's `normalize.less` sets `[hidden] { display: none; }` but bootstrap.min.css set `[hidden] { display: none !important; }` so we also need the `!important` here to be able to override the default hidden behavior on the sphinx rendered scikit-learn.org. See: https://github.com/scikit-learn/scikit-learn/issues/21755 */display: inline-block !important;position: relative;}#sk-container-id-1 div.sk-text-repr-fallback {display: none;}</style><div id=\"sk-container-id-1\" class=\"sk-top-container\"><div class=\"sk-text-repr-fallback\"><pre>LogisticRegression(C=5, max_iter=1000, n_jobs=-1)</pre><b>In a Jupyter environment, please rerun this cell to show the HTML representation or trust the notebook. <br />On GitHub, the HTML representation is unable to render, please try loading this page with nbviewer.org.</b></div><div class=\"sk-container\" hidden><div class=\"sk-item\"><div class=\"sk-estimator sk-toggleable\"><input class=\"sk-toggleable__control sk-hidden--visually\" id=\"sk-estimator-id-1\" type=\"checkbox\" checked><label for=\"sk-estimator-id-1\" class=\"sk-toggleable__label sk-toggleable__label-arrow\">LogisticRegression</label><div class=\"sk-toggleable__content\"><pre>LogisticRegression(C=5, max_iter=1000, n_jobs=-1)</pre></div></div></div></div></div>"
            ],
            "text/plain": [
              "LogisticRegression(C=5, max_iter=1000, n_jobs=-1)"
            ]
          },
          "execution_count": 4,
          "metadata": {},
          "output_type": "execute_result"
        }
      ],
      "source": [
        "classifier = LogisticRegression(max_iter=1000, n_jobs=-1, C=5)\n",
        "classifier.fit(x_train_vectorized, y_train)\n"
      ]
    },
    {
      "cell_type": "markdown",
      "metadata": {
        "id": "dBifAviv4ijh"
      },
      "source": [
        "# **Using a Naive Bayes classifier to classify our data**"
      ]
    },
    {
      "cell_type": "code",
      "execution_count": null,
      "metadata": {
        "id": "cpRauKL73oq9"
      },
      "outputs": [],
      "source": [
        "#uncomment for testing purposes\n",
        "\n",
        "#classifier = MultinomialNB()\n",
        "#classifier.fit(x_train_vectorized, y_train)"
      ]
    },
    {
      "cell_type": "markdown",
      "metadata": {
        "id": "lfeHKajv4o_v"
      },
      "source": [
        "# **Using a RandomForest classifier to classify our data**"
      ]
    },
    {
      "cell_type": "code",
      "execution_count": null,
      "metadata": {
        "id": "wQdVx68t3o6d"
      },
      "outputs": [],
      "source": [
        "#uncomment for testing purposes\n",
        "\n",
        "#classifier = RandomForestClassifier(n_estimators=200, criterion='entropy', random_state=42)\n",
        "#classifier.fit(x_train_vectorized, y_train)"
      ]
    },
    {
      "cell_type": "code",
      "execution_count": null,
      "metadata": {
        "id": "DJ42fq7n2_jF"
      },
      "outputs": [],
      "source": [
        "#Use the trained model to classify the lyrics in the test data\n",
        "x_test = test_data['lyric']\n",
        "x_test_vectorized = vectorizer.transform(x_test)\n",
        "y_pred = classifier.predict(x_test_vectorized)"
      ]
    },
    {
      "cell_type": "markdown",
      "metadata": {
        "id": "pbHXQRtO4yi7"
      },
      "source": [
        "# **Evaluating the model**"
      ]
    },
    {
      "cell_type": "code",
      "execution_count": null,
      "metadata": {
        "colab": {
          "base_uri": "https://localhost:8080/",
          "height": 566
        },
        "id": "hYCenyrR2Fqg",
        "outputId": "8397bdaf-66b1-4c67-ed19-4db61616513d"
      },
      "outputs": [
        {
          "name": "stdout",
          "output_type": "stream",
          "text": [
            "              precision    recall  f1-score   support\n",
            "\n",
            "           0       0.77      0.84      0.81       101\n",
            "           1       0.82      0.75      0.79       100\n",
            "\n",
            "    accuracy                           0.80       201\n",
            "   macro avg       0.80      0.80      0.80       201\n",
            "weighted avg       0.80      0.80      0.80       201\n",
            "\n"
          ]
        },
        {
          "data": {
            "image/png": "[encoded data removed]",
            "text/plain": [
              "<Figure size 600x400 with 2 Axes>"
            ]
          },
          "metadata": {},
          "output_type": "display_data"
        }
      ],
      "source": [
        "#evaluate the performance of the model\n",
        "test_data['predicted_class'] = y_pred\n",
        "test_data.to_csv(\"test_with_predictions.csv\", index=False)\n",
        "\n",
        "sample = pd.read_csv(\"sample2.csv\")\n",
        "\n",
        "#merge the predicted classes based on 'id'\n",
        "test_results = pd.merge(test_data, sample, on='id')\n",
        "\n",
        "#calculate classification report\n",
        "print(classification_report(test_results['class'], test_results['predicted_class']))\n",
        "\n",
        "class_names = ['rap', 'pop']\n",
        "\n",
        "#Create confusion matrix\n",
        "cm = confusion_matrix(test_results['class'], test_results['predicted_class'])\n",
        "\n",
        "#Creating a visual representation of confusion matrix\n",
        "plt.figure(figsize=(6, 4))\n",
        "sns.heatmap(cm, annot=True, cmap='Reds', fmt='g', xticklabels=class_names, yticklabels=class_names)\n",
        "plt.xlabel('Predicted labels')\n",
        "plt.ylabel('True labels')\n",
        "plt.title('Confusion Matrix')\n",
        "plt.show()"
      ]
    }
  ],
  "metadata": {
    "colab": {
      "provenance": []
    },
    "kernelspec": {
      "display_name": "Python 3",
      "name": "python3"
    },
    "language_info": {
      "name": "python"
    }
  },
  "nbformat": 4,
  "nbformat_minor": 0
}
